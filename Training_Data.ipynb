{
 "cells": [
  {
   "cell_type": "markdown",
   "source": [
    "# Training Sample Generation for TempCNN approach to classify standing deadwood and cleaned forest areas"
   ],
   "metadata": {
    "collapsed": false
   },
   "id": "18059b68f4a61f3a"
  },
  {
   "cell_type": "markdown",
   "source": [
    "## Import necessary libraries"
   ],
   "metadata": {
    "collapsed": false
   },
   "id": "fe7372c74de2d6cd"
  },
  {
   "cell_type": "code",
   "execution_count": 118,
   "outputs": [
    {
     "name": "stdout",
     "output_type": "stream",
     "text": [
      "/Users/christinakrause/anaconda3/envs/root_project/bin/python\n"
     ]
    }
   ],
   "source": [
    "# Check if using the root_project environment\n",
    "import sys\n",
    "print(sys.executable)"
   ],
   "metadata": {
    "collapsed": false,
    "ExecuteTime": {
     "end_time": "2025-05-21T13:46:19.793513Z",
     "start_time": "2025-05-21T13:46:19.785407Z"
    }
   },
   "id": "40fcc5bd2eadc7b5"
  },
  {
   "cell_type": "code",
   "execution_count": 119,
   "outputs": [
    {
     "name": "stdout",
     "output_type": "stream",
     "text": [
      "All packages imported successfully!\n"
     ]
    }
   ],
   "source": [
    "import geopandas as gpd\n",
    "import pandas as pd\n",
    "import xarray as xr\n",
    "import numpy as np\n",
    "from shapely.geometry import Point\n",
    "from scipy.spatial import cKDTree\n",
    "import os\n",
    "import glob\n",
    "import matplotlib.pyplot as plt\n",
    "from matplotlib.lines import Line2D\n",
    "import rasterio\n",
    "import seaborn as sns\n",
    "print(\"All packages imported successfully!\")"
   ],
   "metadata": {
    "collapsed": false,
    "ExecuteTime": {
     "end_time": "2025-05-21T13:46:27.353004Z",
     "start_time": "2025-05-21T13:46:27.344654Z"
    }
   },
   "id": "8a80ac3a8317c3ca"
  },
  {
   "cell_type": "markdown",
   "source": [
    "## Generate points with a specified spacing within polygons from a shapefile"
   ],
   "metadata": {
    "collapsed": false,
    "ExecuteTime": {
     "end_time": "2025-05-21T10:39:09.472465Z",
     "start_time": "2025-05-21T10:39:09.470261Z"
    }
   },
   "id": "f0e6846b4070ade7"
  },
  {
   "cell_type": "code",
   "execution_count": 120,
   "outputs": [],
   "source": [
    "# Change working directory\n",
    "os.chdir('/Users/christinakrause/HIWI_DLR_Forest/')"
   ],
   "metadata": {
    "collapsed": false,
    "ExecuteTime": {
     "end_time": "2025-05-21T13:46:29.085309Z",
     "start_time": "2025-05-21T13:46:29.082766Z"
    }
   },
   "id": "4c6bad2f012fe207"
  },
  {
   "cell_type": "code",
   "execution_count": 121,
   "outputs": [],
   "source": [
    "def generate_points_from_polygons(input_folder, output_path, crs_epsg, spacing):\n",
    "    \n",
    "    all_points = []\n",
    "    point_id = 0  # Initialize unique ID counter\n",
    "\n",
    "    for filename in os.listdir(input_folder):\n",
    "        if filename.endswith(\".gpkg\"):\n",
    "            filepath = os.path.join(input_folder, filename)\n",
    "            print(f\"Verarbeite Datei: {filepath}\")\n",
    "            \n",
    "            # Lade Polygone und transformiere CRS\n",
    "            polygons = gpd.read_file(filepath).to_crs(epsg=crs_epsg)\n",
    "            polygons = polygons.rename(columns={\"id\": \"polygon_id\"})\n",
    "            if \"Flight_Dat\" in polygons.columns and \"Flight_Date\" not in polygons.columns:\n",
    "                polygons = polygons.rename(columns={\"Flight_Dat\": \"Flight_Date\"})\n",
    "\n",
    "\n",
    "            for poly_idx, row in polygons.iterrows():\n",
    "                polygon = row.geometry\n",
    "                bounds = polygon.bounds\n",
    "\n",
    "                x_coords = np.arange(bounds[0], bounds[2], spacing)\n",
    "                y_coords = np.arange(bounds[1], bounds[3], spacing)\n",
    "\n",
    "                for x in x_coords:\n",
    "                    for y in y_coords:\n",
    "                        point = Point(x, y)\n",
    "                        if polygon.contains(point):\n",
    "                            point_attrs = row.copy()\n",
    "                            point_attrs.geometry = point\n",
    "                            point_attrs['point_id'] = point_id\n",
    "                            all_points.append(point_attrs)\n",
    "                            point_id += 1\n",
    "\n",
    "    if all_points:\n",
    "        all_points_gdf = gpd.GeoDataFrame(all_points, crs=f\"EPSG:{crs_epsg}\")\n",
    "        all_points_gdf.to_file(output_path, driver=\"GPKG\")\n",
    "        print(f\"Gemeinsame Punktdatei gespeichert unter: {output_path}\")\n",
    "        return all_points_gdf\n",
    "    else:\n",
    "        print(\"Keine Punkte generiert.\")\n",
    "        return None"
   ],
   "metadata": {
    "collapsed": false,
    "ExecuteTime": {
     "end_time": "2025-05-21T13:46:29.807337Z",
     "start_time": "2025-05-21T13:46:29.801938Z"
    }
   },
   "id": "22600ec19f2c26da"
  },
  {
   "cell_type": "code",
   "execution_count": 122,
   "outputs": [
    {
     "name": "stdout",
     "output_type": "stream",
     "text": [
      "Verarbeite Datei: Data_Collection/polygons/training_polygons2023.gpkg\n",
      "Verarbeite Datei: Data_Collection/polygons/training_polygons2019.gpkg\n",
      "Verarbeite Datei: Data_Collection/polygons/training_polygons2022.gpkg\n",
      "Gemeinsame Punktdatei gespeichert unter: Data_Collection/points/training_points_10m.gpkg\n",
      "class\n",
      "1    5616\n",
      "2     704\n",
      "Name: count, dtype: int64\n"
     ]
    }
   ],
   "source": [
    "# Apply function\n",
    "geopackage_path = \"Data_Collection/polygons\"\n",
    "output_path = \"Data_Collection/points/training_points_10m.gpkg\"\n",
    "training_points = generate_points_from_polygons(geopackage_path, output_path, crs_epsg=3035, spacing=10)\n",
    "value_counts = training_points[\"class\"].value_counts()\n",
    "print(value_counts)"
   ],
   "metadata": {
    "collapsed": false,
    "ExecuteTime": {
     "end_time": "2025-05-21T13:46:32.400308Z",
     "start_time": "2025-05-21T13:46:31.002677Z"
    }
   },
   "id": "444902b0a8656848"
  },
  {
   "cell_type": "markdown",
   "source": [
    "## Extract FCC code for training points"
   ],
   "metadata": {
    "collapsed": false,
    "ExecuteTime": {
     "end_time": "2025-05-21T10:26:39.074279Z",
     "start_time": "2025-05-21T10:26:39.068685Z"
    }
   },
   "id": "f974f1b42f28b836"
  },
  {
   "cell_type": "code",
   "execution_count": 123,
   "outputs": [],
   "source": [
    "def extract_fcc_dates(fcc_path, points_gdf):\n",
    "    with rasterio.open(fcc_path) as src:\n",
    "        points = [(geom.x, geom.y) for geom in points_gdf.geometry]\n",
    "        fcc_values = [val[0] for val in src.sample(points)]  # Extract raster values\n",
    "    points_gdf['FCC_Value'] = fcc_values\n",
    "    return points_gdf"
   ],
   "metadata": {
    "collapsed": false,
    "ExecuteTime": {
     "end_time": "2025-05-21T13:46:34.549133Z",
     "start_time": "2025-05-21T13:46:34.539018Z"
    }
   },
   "id": "fadfe85dba71229c"
  },
  {
   "cell_type": "code",
   "execution_count": 124,
   "outputs": [
    {
     "name": "stdout",
     "output_type": "stream",
     "text": [
      "class\n",
      "1    5616\n",
      "2     704\n",
      "Name: count, dtype: int64\n"
     ]
    }
   ],
   "source": [
    "# Apply function\n",
    "fcc_path = 'Datenpaket_Beginn/fcc_15122024_bav.tiff'\n",
    "training_points = extract_fcc_dates(fcc_path, training_points)\n",
    "value_counts = training_points[\"class\"].value_counts()\n",
    "print(value_counts)"
   ],
   "metadata": {
    "collapsed": false,
    "ExecuteTime": {
     "end_time": "2025-05-21T13:46:35.515143Z",
     "start_time": "2025-05-21T13:46:35.333811Z"
    }
   },
   "id": "b88fde6c63eb7268"
  },
  {
   "cell_type": "markdown",
   "source": [
    "## Convert FCC codes to standard date format"
   ],
   "metadata": {
    "collapsed": false,
    "ExecuteTime": {
     "end_time": "2025-05-21T10:27:42.856590Z",
     "start_time": "2025-05-21T10:27:42.848960Z"
    }
   },
   "id": "df91a3946af19be4"
  },
  {
   "cell_type": "code",
   "execution_count": 125,
   "outputs": [],
   "source": [
    "# Function to convert FCC values to dates using a lookup table\n",
    "def convert_fcc_to_date(points_gdf, codierung_path):\n",
    "    codierung_df = pd.read_excel(codierung_path)\n",
    "    codierung_dict = dict(zip(codierung_df['FCC_Code'], codierung_df['Date']))\n",
    "    points_gdf['FCC_Date'] = points_gdf['FCC_Value'].map(codierung_dict)\n",
    "    return points_gdf"
   ],
   "metadata": {
    "collapsed": false,
    "ExecuteTime": {
     "end_time": "2025-05-21T13:46:37.381858Z",
     "start_time": "2025-05-21T13:46:37.372521Z"
    }
   },
   "id": "6dc35c01e868d6b3"
  },
  {
   "cell_type": "code",
   "execution_count": 126,
   "outputs": [],
   "source": [
    "# Apply function \n",
    "fcc_codierung_path = 'Datenpaket_Beginn/Codierung_Schadzeitpunkte.xlsx'\n",
    "training_points = convert_fcc_to_date(training_points, fcc_codierung_path)"
   ],
   "metadata": {
    "collapsed": false,
    "ExecuteTime": {
     "end_time": "2025-05-21T13:46:38.833428Z",
     "start_time": "2025-05-21T13:46:38.813034Z"
    }
   },
   "id": "6546b858e4143c52"
  },
  {
   "cell_type": "markdown",
   "source": [
    "## Filter out points with large discrepancies between FCC date and flight date and save dataframe"
   ],
   "metadata": {
    "collapsed": false
   },
   "id": "1e8f3f3eed1f12fc"
  },
  {
   "cell_type": "code",
   "execution_count": 10,
   "outputs": [],
   "source": [
    "def filter_large_discrepancies(points_gdf, output_path, threshold_days=20):\n",
    "    points_gdf['FCC_Date'] = pd.to_datetime(points_gdf['FCC_Date'])\n",
    "    points_gdf['Flight_Date'] = pd.to_datetime(points_gdf['Flight_Date'])\n",
    "    points_gdf['Date_Diff'] = abs((points_gdf['FCC_Date'] - points_gdf['Flight_Date']).dt.days)\n",
    "    points_gdf = points_gdf[points_gdf['Date_Diff'] <= threshold_days]\n",
    "    points_gdf.to_file(output_path)\n",
    "    print(f\"Point shapefile saved successfully at: {output_path}\")\n",
    "    return points_gdf"
   ],
   "metadata": {
    "collapsed": false,
    "ExecuteTime": {
     "end_time": "2025-05-08T08:43:37.928377Z",
     "start_time": "2025-05-08T08:43:37.922346Z"
    }
   },
   "id": "db7d6b24b945dc26"
  },
  {
   "cell_type": "code",
   "execution_count": 11,
   "outputs": [
    {
     "name": "stdout",
     "output_type": "stream",
     "text": [
      "Point shapefile saved successfully at: Data_Collection/points/training_points_10m_2019_filtered.gpkg\n",
      "polygon_id     18\n",
      "class          18\n",
      "Flight_Date    18\n",
      "Flight_Nr      18\n",
      "geometry       18\n",
      "point_id       18\n",
      "FCC_Value      18\n",
      "FCC_Date       18\n",
      "Date_Diff      18\n",
      "dtype: int64\n",
      "0\n"
     ]
    }
   ],
   "source": [
    "# Apply function \n",
    "output_path = \"Data_Collection/points/training_points_10m_2019_filtered.gpkg\"\n",
    "training_points_filtered = filter_large_discrepancies(training_points, output_path)\n",
    "print(training_points_filtered.count())\n",
    "nan_count = training_points_filtered['Date_Diff'].isna().sum()\n",
    "print(nan_count)"
   ],
   "metadata": {
    "collapsed": false,
    "ExecuteTime": {
     "end_time": "2025-05-08T08:43:38.905303Z",
     "start_time": "2025-05-08T08:43:38.884333Z"
    }
   },
   "id": "e0dc68fd6f546201"
  },
  {
   "cell_type": "markdown",
   "source": [
    "## Extract time series data from Disturbance Index NetCDF for filtered training points"
   ],
   "metadata": {
    "collapsed": false,
    "ExecuteTime": {
     "end_time": "2025-05-21T10:36:37.373130Z",
     "start_time": "2025-05-21T10:36:37.338937Z"
    }
   },
   "id": "8b0d9f067d382ba2"
  },
  {
   "cell_type": "code",
   "execution_count": 129,
   "outputs": [],
   "source": [
    "def extract_time_series_from_netcdf(nc_path, points_gdf, output_folder, crs_epsg=3035):\n",
    "    # Load NetCDF and assign CRS\n",
    "    ds = xr.open_dataset(nc_path)\n",
    "    ds = ds.rio.write_crs(f\"EPSG:{crs_epsg}\")\n",
    "\n",
    "    # Extract netCDF grid coordinates\n",
    "    x_coords, y_coords = ds.x.values, ds.y.values\n",
    "    grid_points = np.array([(x, y) for x in x_coords for y in y_coords])\n",
    "    tree = cKDTree(grid_points)\n",
    "    \n",
    "    # Container for time series from all points\n",
    "    all_time_series = []\n",
    "    missing_points = []\n",
    "    reasons = []\n",
    "\n",
    "    for idx, point in points_gdf.iterrows():\n",
    "        point_id = point['point_id']\n",
    "        try:\n",
    "            # Get point location and find nearest netCDF pixel\n",
    "            x, y = point.geometry.x, point.geometry.y\n",
    "            _, idx_nearest = tree.query([x, y])\n",
    "            nearest_x, nearest_y = grid_points[idx_nearest]\n",
    "    \n",
    "            # Extract time series for nearest pixel\n",
    "            ts = ds.sel(x=nearest_x, y=nearest_y, method=\"nearest\")\n",
    "    \n",
    "            # Convert flight date\n",
    "            flight_date_raw = point[\"Flight_Date\"]\n",
    "            flight_date = pd.to_datetime(flight_date_raw, errors=\"coerce\")\n",
    "            \n",
    "            if pd.isna(flight_date_raw):\n",
    "                missing_points.append(point_id)\n",
    "                reasons.append(f\"invalid or missing flight date: {time}\")\n",
    "                continue\n",
    "            start_date = flight_date - pd.DateOffset(months=7)\n",
    "            end_date = flight_date + pd.DateOffset(months=6)\n",
    "    \n",
    "            # Subset time range\n",
    "            ts = ts.sel(time=slice(start_date, end_date))\n",
    "    \n",
    "            # Convert to DataFrame\n",
    "            ts_df = ts.to_dataframe().reset_index()\n",
    "    \n",
    "            # Calculate the week difference (rounded)\n",
    "            ts_df['rel_week'] = ((ts_df['time'] - flight_date).dt.days // 7)\n",
    "            ts_df['time_str'] = ts_df['rel_week'].apply(lambda x: f\"di_t{int(x):+}\")\n",
    "            ts_df['point_id'] = point_id\n",
    "            ts_df['class'] = point['class']\n",
    "    \n",
    "            all_time_series.append(ts_df[['point_id', 'class', 'time', 'time_str', 'di']])\n",
    "    \n",
    "        except Exception as e:\n",
    "            missing_points.append(point_id)\n",
    "            reasons.append(f\"exception: {e}\")\n",
    "    # Combine all point time series into one DataFrame\n",
    "    final_df = pd.concat(all_time_series, ignore_index=True)\n",
    "\n",
    "    # Ensure output directory exists\n",
    "    os.makedirs(output_folder, exist_ok=True)\n",
    "\n",
    "    # Save to CSV\n",
    "    final_df.to_csv(os.path.join(output_folder, \"combined_time_series.csv\"), index=False)\n",
    "    \n",
    "    # Convert to wide format\n",
    "    wide_df = final_df.pivot_table(\n",
    "        index=['point_id', 'class'],\n",
    "        columns='time_str',\n",
    "        values='di'\n",
    "    ).reset_index()\n",
    "\n",
    "    # Save wide format\n",
    "    wide_path = os.path.join(output_folder, \"combined_time_series_wide.csv\")\n",
    "    wide_df.to_csv(wide_path, index=False)\n",
    "    \n",
    "    # Save diagnostics\n",
    "    missing_df = pd.DataFrame({\"point_id\": missing_points, \"reason\": reasons})\n",
    "    missing_df.to_csv(os.path.join(output_folder, \"missing_points_debug.csv\"), index=False)\n",
    "\n",
    "    print(\"Time series extraction completed and saved.\")\n",
    "    print(f\"Fertig. Verwendet wurden {final_df['point_id'].nunique()} eindeutige Punkte.\")\n",
    "    print(f\"{len(missing_points)} Punkte konnten keine Zeitreihe erzeugen.\")\n"
   ],
   "metadata": {
    "collapsed": false,
    "ExecuteTime": {
     "end_time": "2025-05-21T13:47:38.435354Z",
     "start_time": "2025-05-21T13:47:38.424048Z"
    }
   },
   "id": "eb4ba912397d855c"
  },
  {
   "cell_type": "code",
   "execution_count": 130,
   "outputs": [
    {
     "name": "stdout",
     "output_type": "stream",
     "text": [
      "Time series extraction completed and saved.\n",
      "Fertig. Verwendet wurden 6320 eindeutige Punkte.\n",
      "0 Punkte konnten keine Zeitreihe erzeugen.\n"
     ]
    }
   ],
   "source": [
    "# Apply function\n",
    "nc_path = 'Datenpaket_Beginn/di_diff_biweek_42_35k.nc'\n",
    "output_folder = 'Data_Collection/DI_points_timeseries'\n",
    "points_gdf = gpd.read_file(\"Data_Collection/points/training_points_10m.gpkg\")  # Load your points GeoDataFrame\n",
    "extract_time_series_from_netcdf(nc_path, points_gdf, output_folder)"
   ],
   "metadata": {
    "collapsed": false,
    "ExecuteTime": {
     "end_time": "2025-05-21T13:47:53.805647Z",
     "start_time": "2025-05-21T13:47:39.159130Z"
    }
   },
   "id": "d7b5c3efd3b40f71"
  },
  {
   "cell_type": "markdown",
   "source": [
    "## Check if time series differ depending on class (1 cleared areas, 2 standing deadwood)"
   ],
   "metadata": {
    "collapsed": false,
    "ExecuteTime": {
     "end_time": "2025-05-21T10:40:36.973910Z",
     "start_time": "2025-05-21T10:40:36.885680Z"
    }
   },
   "id": "e4b6ea0d0e727afb"
  },
  {
   "cell_type": "code",
   "execution_count": 131,
   "outputs": [
    {
     "name": "stdout",
     "output_type": "stream",
     "text": [
      "   point_id  class       time time_str   di\n",
      "0         0      2 2023-02-01  di_t-29  0.0\n",
      "1         0      2 2023-02-15  di_t-27  0.0\n",
      "2         0      2 2023-03-01  di_t-25  0.0\n",
      "3         0      2 2023-03-15  di_t-23  0.0\n",
      "4         0      2 2023-04-01  di_t-20  0.0\n",
      "6320\n"
     ]
    }
   ],
   "source": [
    "# Folder where CSVs are stored\n",
    "csv_file = \"Data_Collection/DI_points_timeseries/combined_time_series.csv\"\n",
    "\n",
    "df = pd.read_csv(csv_file)\n",
    "\n",
    "# Ensure time column is in datetime format\n",
    "df[\"time\"] = pd.to_datetime(df[\"time\"])\n",
    "\n",
    "# Replace -2147483648 with NaN\n",
    "df[\"di\"] = df[\"di\"].replace(-2147483648, np.nan)\n",
    "\n",
    "# Check the first rows\n",
    "print(df.head())\n",
    "value_counts = df[\"point_id\"].unique()\n",
    "print(len(value_counts))"
   ],
   "metadata": {
    "collapsed": false,
    "ExecuteTime": {
     "end_time": "2025-05-21T13:48:09.097192Z",
     "start_time": "2025-05-21T13:48:09.024734Z"
    }
   },
   "id": "67d649464c3fc3e4"
  },
  {
   "cell_type": "code",
   "execution_count": 135,
   "outputs": [
    {
     "name": "stdout",
     "output_type": "stream",
     "text": [
      "<DatetimeArray>\n",
      "['2018-11-15 00:00:00', '2018-12-01 00:00:00', '2018-12-15 00:00:00',\n",
      " '2019-01-15 00:00:00', '2019-02-01 00:00:00', '2019-02-15 00:00:00',\n",
      " '2019-03-15 00:00:00', '2019-04-01 00:00:00', '2019-04-15 00:00:00',\n",
      " '2019-05-01 00:00:00', '2019-05-15 00:00:00', '2019-06-01 00:00:00',\n",
      " '2019-06-15 00:00:00', '2019-07-01 00:00:00', '2019-07-15 00:00:00',\n",
      " '2019-08-01 00:00:00', '2019-08-15 00:00:00', '2019-09-01 00:00:00',\n",
      " '2019-09-15 00:00:00', '2019-10-01 00:00:00', '2019-10-15 00:00:00',\n",
      " '2019-11-01 00:00:00', '2019-11-15 00:00:00', '2019-12-01 00:00:00',\n",
      " '2019-12-15 00:00:00', '2022-01-01 00:00:00', '2022-01-15 00:00:00',\n",
      " '2022-02-01 00:00:00', '2022-02-15 00:00:00', '2022-03-01 00:00:00',\n",
      " '2022-03-15 00:00:00', '2022-04-01 00:00:00', '2022-04-15 00:00:00',\n",
      " '2022-05-01 00:00:00', '2022-05-15 00:00:00', '2022-06-01 00:00:00',\n",
      " '2022-06-15 00:00:00', '2022-07-01 00:00:00', '2022-07-15 00:00:00',\n",
      " '2022-08-01 00:00:00', '2022-08-15 00:00:00', '2022-09-01 00:00:00',\n",
      " '2022-09-15 00:00:00', '2022-10-01 00:00:00', '2022-10-15 00:00:00',\n",
      " '2022-11-01 00:00:00', '2022-11-15 00:00:00', '2022-12-01 00:00:00',\n",
      " '2022-12-15 00:00:00', '2023-01-01 00:00:00', '2023-01-15 00:00:00',\n",
      " '2023-02-01 00:00:00', '2023-02-15 00:00:00', '2023-03-01 00:00:00',\n",
      " '2023-03-15 00:00:00', '2023-04-01 00:00:00', '2023-04-15 00:00:00',\n",
      " '2023-05-01 00:00:00', '2023-05-15 00:00:00', '2023-06-01 00:00:00',\n",
      " '2023-06-15 00:00:00', '2023-07-01 00:00:00', '2023-07-15 00:00:00',\n",
      " '2023-08-01 00:00:00', '2023-08-15 00:00:00', '2023-09-01 00:00:00',\n",
      " '2023-09-15 00:00:00', '2023-10-01 00:00:00', '2023-10-15 00:00:00',\n",
      " '2023-11-01 00:00:00', '2023-11-15 00:00:00', '2023-12-01 00:00:00',\n",
      " '2023-12-15 00:00:00', '2024-01-01 00:00:00', '2024-01-15 00:00:00',\n",
      " '2024-02-01 00:00:00', '2024-02-15 00:00:00']\n",
      "Length: 77, dtype: datetime64[ns]\n"
     ]
    },
    {
     "data": {
      "text/plain": "<Figure size 1000x500 with 1 Axes>",
      "image/png": "[encoded data removed]"
     },
     "metadata": {},
     "output_type": "display_data"
    }
   ],
   "source": [
    "print(df[df['di'].notna()]['time'].sort_values().unique())\n",
    "# Group by class and time, then compute mean DI and plot result\n",
    "df_grouped = df.groupby([\"class\", \"time\"])[\"di\"].mean().reset_index()\n",
    "\n",
    "# Plot\n",
    "plt.figure(figsize=(10, 5))\n",
    "for class_label in df_grouped[\"class\"].unique():\n",
    "    subset = df_grouped[df_grouped[\"class\"] == class_label]\n",
    "    plt.plot(subset[\"time\"], subset[\"di\"], label=f\"Class {class_label}\")\n",
    "\n",
    "plt.xlabel(\"Time\")\n",
    "plt.ylabel(\"Mean DI\")\n",
    "plt.title(\"Average Disturbance Index Time Series by Class\")\n",
    "plt.legend()\n",
    "plt.xticks(rotation=45)\n",
    "plt.show()"
   ],
   "metadata": {
    "collapsed": false,
    "ExecuteTime": {
     "end_time": "2025-05-21T13:56:14.441766Z",
     "start_time": "2025-05-21T13:56:14.326641Z"
    }
   },
   "id": "f6de4664b50a21bc"
  },
  {
   "cell_type": "markdown",
   "source": [
    "### Test difference of time series"
   ],
   "metadata": {
    "collapsed": false,
    "ExecuteTime": {
     "end_time": "2025-05-21T10:38:19.701126Z",
     "start_time": "2025-05-21T10:38:19.498184Z"
    }
   },
   "id": "d62efbd8876fcbf1"
  },
  {
   "cell_type": "code",
   "execution_count": 59,
   "outputs": [
    {
     "name": "stdout",
     "output_type": "stream",
     "text": [
      "Anzahl DI-Werte für Klasse 1: 106462\n",
      "Anzahl DI-Werte für Klasse 2: 12562\n",
      "t-statistic = 180.13849888172146, p-value = 0.0\n"
     ]
    }
   ],
   "source": [
    "# t-test: If data is normally distributed\n",
    "from scipy.stats import ttest_ind\n",
    "\n",
    "# Separate DI values by class\n",
    "di_class1 = df[df[\"class\"] == 1][\"di\"].dropna()\n",
    "di_class2 = df[df[\"class\"] == 2][\"di\"].dropna()\n",
    "print(f\"Anzahl DI-Werte für Klasse 1: {len(di_class1)}\")\n",
    "print(f\"Anzahl DI-Werte für Klasse 2: {len(di_class2)}\")\n",
    "\n",
    "\n",
    "# Perform t-test\n",
    "t_stat, p_value = ttest_ind(di_class1, di_class2, equal_var=False)\n",
    "\n",
    "print(f\"t-statistic = {t_stat}, p-value = {p_value}\")\n"
   ],
   "metadata": {
    "collapsed": false,
    "ExecuteTime": {
     "end_time": "2025-05-21T12:08:22.535981Z",
     "start_time": "2025-05-21T12:08:22.520Z"
    }
   },
   "id": "d2ae9a229ae2b4c2"
  },
  {
   "cell_type": "code",
   "execution_count": 60,
   "outputs": [
    {
     "name": "stdout",
     "output_type": "stream",
     "text": [
      "U-statistic = 1090176442.5, p-value = 0.0\n"
     ]
    }
   ],
   "source": [
    "# Mann-Whitney U-test: If data is not normally distributed\n",
    "from scipy.stats import mannwhitneyu\n",
    "u_stat, p_value = mannwhitneyu(di_class1, di_class2, alternative=\"two-sided\")\n",
    "print(f\"U-statistic = {u_stat}, p-value = {p_value}\")"
   ],
   "metadata": {
    "collapsed": false,
    "ExecuteTime": {
     "end_time": "2025-05-21T12:08:25.039838Z",
     "start_time": "2025-05-21T12:08:25.028513Z"
    }
   },
   "id": "be9bcaaf40386924"
  },
  {
   "cell_type": "code",
   "execution_count": 61,
   "outputs": [
    {
     "data": {
      "text/plain": "<Figure size 640x480 with 1 Axes>",
      "image/png": "[encoded data removed]"
     },
     "metadata": {},
     "output_type": "display_data"
    }
   ],
   "source": [
    "sns.boxplot(x=\"class\", y=\"di\", data=df)\n",
    "plt.title(\"Distribution of DI Values by Class\")\n",
    "plt.show()"
   ],
   "metadata": {
    "collapsed": false,
    "ExecuteTime": {
     "end_time": "2025-05-21T12:08:49.950105Z",
     "start_time": "2025-05-21T12:08:49.799939Z"
    }
   },
   "id": "5afcca3df4beef35"
  },
  {
   "cell_type": "code",
   "execution_count": null,
   "outputs": [],
   "source": [],
   "metadata": {
    "collapsed": false
   },
   "id": "7471ca5965850122"
  }
 ],
 "metadata": {
  "kernelspec": {
   "name": "root_project",
   "language": "python",
   "display_name": "Root Project"
  },
  "language_info": {
   "codemirror_mode": {
    "name": "ipython",
    "version": 2
   },
   "file_extension": ".py",
   "mimetype": "text/x-python",
   "name": "python",
   "nbconvert_exporter": "python",
   "pygments_lexer": "ipython2",
   "version": "2.7.6"
  }
 },
 "nbformat": 4,
 "nbformat_minor": 5
}
